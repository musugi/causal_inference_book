{
  "cells": [
    {
      "cell_type": "markdown",
      "metadata": {
        "colab_type": "text",
        "id": "d-IAJLC2k1NX"
      },
      "source": [
        "# 4.1 回帰分析による因果推論\n",
        "\n",
        "本ファイルは、4.1節の実装です。\n",
        "\n",
        "テレビCMの広告効果の推定を例に、回帰分析による因果推論を実装します。\n"
      ]
    },
    {
      "cell_type": "markdown",
      "metadata": {
        "colab_type": "text",
        "id": "2XdIDbdlejUk"
      },
      "source": [
        "## プログラム実行前の設定など"
      ]
    },
    {
      "cell_type": "code",
      "execution_count": 1,
      "metadata": {
        "colab": {},
        "colab_type": "code",
        "id": "wqHjwstVeXYt"
      },
      "outputs": [],
      "source": [
        "# 乱数のシードを設定\n",
        "import random\n",
        "import numpy as np\n",
        "\n",
        "np.random.seed(1234)\n",
        "random.seed(1234)\n"
      ]
    },
    {
      "cell_type": "code",
      "execution_count": 2,
      "metadata": {
        "colab": {},
        "colab_type": "code",
        "id": "RIhcLRqlem3V"
      },
      "outputs": [],
      "source": [
        "# 使用するパッケージ（ライブラリと関数）を定義\n",
        "# 標準正規分布の生成用\n",
        "from numpy.random import *\n",
        "\n",
        "# グラフの描画用\n",
        "import matplotlib.pyplot as plt\n",
        "\n",
        "# SciPy 平均0、分散1に正規化（標準化）関数\n",
        "import scipy.stats\n",
        "\n",
        "# シグモイド関数をimport\n",
        "from scipy.special import expit\n",
        "\n",
        "# その他\n",
        "import pandas as pd\n"
      ]
    },
    {
      "cell_type": "markdown",
      "metadata": {
        "colab_type": "text",
        "id": "AWqP6yeQlI_t"
      },
      "source": [
        "## データの作成"
      ]
    },
    {
      "cell_type": "code",
      "execution_count": 3,
      "metadata": {
        "colab": {},
        "colab_type": "code",
        "id": "EJaQIHz4fNXb"
      },
      "outputs": [],
      "source": [
        "# データ数\n",
        "num_data = 200\n",
        "\n",
        "# 年齢\n",
        "x_1 = randint(15, 76, num_data)  # 15から75歳の一様乱数\n",
        "\n",
        "# 性別（0を女性、1を男性とします）\n",
        "x_2 = randint(0, 2, num_data)  # 0か1の乱数\n"
      ]
    },
    {
      "cell_type": "markdown",
      "metadata": {
        "colab_type": "text",
        "id": "JiT_gc5ZmAQa"
      },
      "source": [
        "## テレビCMを見たかどうか"
      ]
    },
    {
      "cell_type": "code",
      "execution_count": 4,
      "metadata": {
        "colab": {},
        "colab_type": "code",
        "id": "hfPbhhm6gvW6"
      },
      "outputs": [],
      "source": [
        "# ノイズの生成\n",
        "e_z = randn(num_data)\n",
        "\n",
        "# シグモイド関数に入れる部分\n",
        "z_base = x_1 + (1-x_2)*10 - 40 + 5*e_z\n",
        "\n",
        "# シグモイド関数を計算\n",
        "z_prob = expit(0.1*z_base)\n",
        "\n",
        "# テレビCMを見たかどうかの変数（0は見ていない、1は見た）\n",
        "Z = np.array([])\n",
        "\n",
        "for i in range(num_data):\n",
        "    Z_i = np.random.choice(2, size=1, p=[1-z_prob[i], z_prob[i]])[0]\n",
        "    Z = np.append(Z, Z_i)\n"
      ]
    },
    {
      "cell_type": "markdown",
      "metadata": {
        "colab_type": "text",
        "id": "b2PLquJGi2Te"
      },
      "source": [
        "## 購入量Yを作成"
      ]
    },
    {
      "cell_type": "code",
      "execution_count": 5,
      "metadata": {
        "colab": {},
        "colab_type": "code",
        "id": "nv-ELtFqi5L5"
      },
      "outputs": [],
      "source": [
        "# ノイズの生成\n",
        "e_y = randn(num_data)\n",
        "\n",
        "Y = -x_1 + 30*x_2 + 10*Z + 80 + 10*e_y\n"
      ]
    },
    {
      "cell_type": "markdown",
      "metadata": {
        "colab_type": "text",
        "id": "BHcdUlW9koTa"
      },
      "source": [
        "## データをまとめた表を作成し、平均値を比べる"
      ]
    },
    {
      "cell_type": "code",
      "execution_count": 6,
      "metadata": {
        "colab": {
          "base_uri": "https://localhost:8080/",
          "height": 195
        },
        "colab_type": "code",
        "id": "HPqwrISXktRj",
        "outputId": "2afcd49a-b744-4b4a-db32-838377fa0305"
      },
      "outputs": [
        {
          "data": {
            "text/html": [
              "<div>\n",
              "<style scoped>\n",
              "    .dataframe tbody tr th:only-of-type {\n",
              "        vertical-align: middle;\n",
              "    }\n",
              "\n",
              "    .dataframe tbody tr th {\n",
              "        vertical-align: top;\n",
              "    }\n",
              "\n",
              "    .dataframe thead th {\n",
              "        text-align: right;\n",
              "    }\n",
              "</style>\n",
              "<table border=\"1\" class=\"dataframe\">\n",
              "  <thead>\n",
              "    <tr style=\"text-align: right;\">\n",
              "      <th></th>\n",
              "      <th>年齢</th>\n",
              "      <th>性別</th>\n",
              "      <th>CMを見た</th>\n",
              "      <th>購入量</th>\n",
              "    </tr>\n",
              "  </thead>\n",
              "  <tbody>\n",
              "    <tr>\n",
              "      <th>0</th>\n",
              "      <td>62</td>\n",
              "      <td>0</td>\n",
              "      <td>1.0</td>\n",
              "      <td>24.464285</td>\n",
              "    </tr>\n",
              "    <tr>\n",
              "      <th>1</th>\n",
              "      <td>34</td>\n",
              "      <td>0</td>\n",
              "      <td>0.0</td>\n",
              "      <td>45.693411</td>\n",
              "    </tr>\n",
              "    <tr>\n",
              "      <th>2</th>\n",
              "      <td>53</td>\n",
              "      <td>1</td>\n",
              "      <td>1.0</td>\n",
              "      <td>64.998281</td>\n",
              "    </tr>\n",
              "    <tr>\n",
              "      <th>3</th>\n",
              "      <td>68</td>\n",
              "      <td>1</td>\n",
              "      <td>1.0</td>\n",
              "      <td>47.186898</td>\n",
              "    </tr>\n",
              "    <tr>\n",
              "      <th>4</th>\n",
              "      <td>27</td>\n",
              "      <td>1</td>\n",
              "      <td>0.0</td>\n",
              "      <td>100.114260</td>\n",
              "    </tr>\n",
              "  </tbody>\n",
              "</table>\n",
              "</div>"
            ],
            "text/plain": [
              "   年齢  性別  CMを見た         購入量\n",
              "0  62   0    1.0   24.464285\n",
              "1  34   0    0.0   45.693411\n",
              "2  53   1    1.0   64.998281\n",
              "3  68   1    1.0   47.186898\n",
              "4  27   1    0.0  100.114260"
            ]
          },
          "execution_count": 6,
          "metadata": {},
          "output_type": "execute_result"
        }
      ],
      "source": [
        "df = pd.DataFrame({'年齢': x_1,\n",
        "                   '性別': x_2,\n",
        "                   'CMを見た': Z,\n",
        "                   '購入量': Y,\n",
        "                   })\n",
        "\n",
        "df.head()  # 先頭を表示\n"
      ]
    },
    {
      "cell_type": "code",
      "execution_count": 7,
      "metadata": {
        "colab": {
          "base_uri": "https://localhost:8080/",
          "height": 210
        },
        "colab_type": "code",
        "id": "HHInQ1Sukrg0",
        "outputId": "40cbd6c0-df68-4eec-c8c7-8a518aa4d52c"
      },
      "outputs": [
        {
          "name": "stdout",
          "output_type": "stream",
          "text": [
            "年齢       55.836066\n",
            "性別        0.483607\n",
            "CMを見た     1.000000\n",
            "購入量      49.711478\n",
            "dtype: float64\n",
            "--------\n",
            "年齢       32.141026\n",
            "性別        0.692308\n",
            "CMを見た     0.000000\n",
            "購入量      68.827143\n",
            "dtype: float64\n"
          ]
        }
      ],
      "source": [
        "# 平均値を比べる\n",
        "\n",
        "print(df[df[\"CMを見た\"] == 1.0].mean())\n",
        "print(\"--------\")\n",
        "print(df[df[\"CMを見た\"] == 0.0].mean())\n"
      ]
    },
    {
      "cell_type": "markdown",
      "metadata": {
        "colab_type": "text",
        "id": "kwKOk59aogBd"
      },
      "source": [
        "## 回帰分析を実施"
      ]
    },
    {
      "cell_type": "code",
      "execution_count": 8,
      "metadata": {
        "colab": {
          "base_uri": "https://localhost:8080/",
          "height": 34
        },
        "colab_type": "code",
        "id": "rBtHC3smoiMC",
        "outputId": "e5a4dee9-e80a-4c83-b32b-8461d494eb00"
      },
      "outputs": [
        {
          "name": "stdout",
          "output_type": "stream",
          "text": [
            "係数： [-0.95817951 32.70149412 10.41327647]\n"
          ]
        }
      ],
      "source": [
        "# scikit-learnから線形回帰をimport\n",
        "# https://scikit-learn.org/stable/modules/generated/sklearn.linear_model.LinearRegression.html\n",
        "from sklearn.linear_model import LinearRegression\n",
        "\n",
        "# 説明変数\n",
        "X = df[[\"年齢\", \"性別\", \"CMを見た\"]]\n",
        "\n",
        "# 被説明変数（目的変数）\n",
        "y = df[\"購入量\"]\n",
        "\n",
        "# 回帰の実施\n",
        "reg = LinearRegression().fit(X, y)\n",
        "\n",
        "# 回帰した結果の係数を出力\n",
        "print(\"係数：\", reg.coef_)\n"
      ]
    },
    {
      "cell_type": "markdown",
      "metadata": {
        "colab_type": "text",
        "id": "1IdVhXmMps-w"
      },
      "source": [
        "以上"
      ]
    }
  ],
  "metadata": {
    "colab": {
      "collapsed_sections": [],
      "name": "4_1_reggresion_adjustment.ipynb",
      "provenance": []
    },
    "kernelspec": {
      "display_name": "Python 3",
      "name": "python3"
    },
    "language_info": {
      "codemirror_mode": {
        "name": "ipython",
        "version": 3
      },
      "file_extension": ".py",
      "mimetype": "text/x-python",
      "name": "python",
      "nbconvert_exporter": "python",
      "pygments_lexer": "ipython3",
      "version": "3.9.6"
    }
  },
  "nbformat": 4,
  "nbformat_minor": 0
}
